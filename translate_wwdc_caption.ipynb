{
 "cells": [
  {
   "cell_type": "markdown",
   "metadata": {},
   "source": [
    "# auto translate session caption\n",
    "\n",
    "这个notebook主要用来对wwdc中session的字幕进行爬取，然后翻译。起因是因为看视频的时候，需要各种暂停思考，而且视频的质量跟网速也有关系，每个视频下载下来也占地方，还不如直接观看keynote。\n",
    "\n",
    "一个问题是，除了keynote之外，还有一些点是通过讲出来的，因此将字幕下载下来、翻译，结合这keynote一起观看是目前比较舒服的一种方法。\n",
    "\n",
    "主调函数在最下面：`scrpit_wwdc_then_translate_save(year,session)`，传入对应的year、session即可完成下载、翻译、保存操作。\n",
    "\n",
    "## prepare\n",
    "\n",
    "将一些库进行引入，以及设置全局变量、工具函数等。"
   ]
  },
  {
   "cell_type": "code",
   "execution_count": 229,
   "metadata": {},
   "outputs": [],
   "source": [
    "import httplib\n",
    "import hashlib\n",
    "import urllib\n",
    "import random\n",
    "import sys\n",
    "import json\n",
    "import re\n",
    "import os\n",
    "from bs4 import BeautifulSoup\n",
    "import pandas as pd\n",
    "\n",
    "appid = '20170524000049056'#如果调用次数不够了，可以再申请一个\n",
    "secretKey = 'mannZwutpWn3BVpUPbdy'#如果调用次数不够了，可以再申请一个\n",
    "\n",
    "httpClient = None\n",
    "translate_url = '/api/trans/vip/translate'\n",
    "fromLang = 'auto'\n",
    "toLang = 'zh'\n",
    "\n",
    "USER_AGENTS = [\n",
    "                \"Mozilla/5.0 (Windows NT 10.0; Win64; x64; rv:61.0) Gecko/20100101 Firefox/61.0\",\n",
    "                \"Mozilla/5.0 (compatible; MSIE 9.0; Windows NT 6.1; Win64; x64; Trident/5.0; .NET CLR 3.5.30729; .NET CLR 3.0.30729; .NET CLR 2.0.50727; Media Center PC 6.0)\",\n",
    "                \"Mozilla/5.0 (compatible; MSIE 8.0; Windows NT 6.0; Trident/4.0; WOW64; Trident/4.0; SLCC2; .NET CLR 2.0.50727; .NET CLR 3.5.30729; .NET CLR 3.0.30729; .NET CLR 1.0.3705; .NET CLR 1.1.4322)\",\n",
    "                \"Mozilla/4.0 (compatible; MSIE 7.0b; Windows NT 5.2; .NET CLR 1.1.4322; .NET CLR 2.0.50727; InfoPath.2; .NET CLR 3.0.04506.30)\",\n",
    "                \"Mozilla/5.0 (Windows; U; Windows NT 5.1; zh-CN) AppleWebKit/523.15 (KHTML, like Gecko, Safari/419.3) Arora/0.3 (Change: 287 c9dfb30)\",\n",
    "                \"Mozilla/5.0 (X11; U; Linux; en-US) AppleWebKit/527+ (KHTML, like Gecko, Safari/419.3) Arora/0.6\",\n",
    "                \"Mozilla/5.0 (Windows; U; Windows NT 5.1; en-US; rv:1.8.1.2pre) Gecko/20070215 K-Ninja/2.1.1\",\n",
    "                \"Mozilla/5.0 (Windows; U; Windows NT 5.1; zh-CN; rv:1.9) Gecko/20080705 Firefox/3.0 Kapiko/3.0\",\n",
    "                \"Mozilla/5.0 (X11; Linux i686; U;) Gecko/20070322 Kazehakase/0.4.5\"]\n",
    "\n",
    "def mkdir(path):\n",
    " \n",
    "    folder = os.path.exists(path)\n",
    " \n",
    "    if not folder:\n",
    "        os.makedirs(path)\n",
    "    else:\n",
    "        print \"---  There is this folder!  ---\"\n"
   ]
  },
  {
   "cell_type": "markdown",
   "metadata": {},
   "source": [
    "## translate\n",
    "\n",
    "执行百度翻译接口对字幕进行翻译。这一部分没有什么，基本上是产考文档上来进行，需要注意的是由于接口默认返回的是utf-8编码，对中文的打印不是很友好，需要对dst进行一下转换。"
   ]
  },
  {
   "cell_type": "code",
   "execution_count": 226,
   "metadata": {},
   "outputs": [],
   "source": [
    "def translate(caption):\n",
    "    \n",
    "    salt = random.randint(32768, 65536)\n",
    "\n",
    "    sign = appid+caption+str(salt)+secretKey\n",
    "    \n",
    "    md5 = hashlib.md5()\n",
    "    md5.update(sign)\n",
    "    sign_md5 = md5.hexdigest()\n",
    "\n",
    "    t = urllib.quote(caption)\n",
    "    \n",
    "    url = translate_url + '?appid={}&q={}&from={}&to={}&salt={}&sign={}'.format(appid,t,fromLang,toLang,str(salt),sign_md5)\n",
    "    full_url = 'api.fanyi.baidu.com' + url\n",
    "    \n",
    "    try:\n",
    "        httpClient = httplib.HTTPConnection('api.fanyi.baidu.com')\n",
    "        httpClient.request('GET', url)\n",
    "\n",
    "        #response是HTTPResponse对象\n",
    "        response = httpClient.getresponse()\n",
    "\n",
    "        result = response.read()\n",
    "        trans_result = eval(result)['trans_result']# 使用eval函数将字符串转成对应的数组、字典\n",
    "\n",
    "        src = trans_result[0]['src']\n",
    "        dst = trans_result[0]['dst']\n",
    "\n",
    "        return caption,dst.decode('unicode_escape')\n",
    "    except Exception as e:\n",
    "        print(e)\n",
    "    finally:\n",
    "        if httpClient:\n",
    "            httpClient.close()"
   ]
  },
  {
   "cell_type": "markdown",
   "metadata": {},
   "source": [
    "## read caption\n",
    "\n",
    "从字幕文件中读取文本，如果逐行进行翻译，会有大量的api调用，对于一个免费版本的key来说有点儿浪费，这里使用一个策略是设置x行一起翻译。基本上一个session有300行左右的信息，这里默认为10行，最后也就30次api的调用，再多之后，阅读起来就不是很美观。"
   ]
  },
  {
   "cell_type": "code",
   "execution_count": 228,
   "metadata": {},
   "outputs": [],
   "source": [
    "def read_caption_content(caption_path,lines = 10):\n",
    "    \n",
    "    def read_lines_caption():\n",
    "        '''\n",
    "        将每读取10行的数据保存为一个段落\n",
    "        '''\n",
    "        sum_caption = []\n",
    "        while 1:\n",
    "            lines = file.readlines(100000)\n",
    "\n",
    "            if not lines:\n",
    "                break\n",
    "\n",
    "            for line in lines:\n",
    "                sum_caption.append(str(line))\n",
    "    \n",
    "        return sum_caption\n",
    "    \n",
    "    file = open(caption_path)\n",
    "    captions = read_lines_caption()\n",
    "    ten_line_captions = []\n",
    "    \n",
    "    for i in range(len(captions)/lines + 1):\n",
    "        f = i * lines\n",
    "        t = i * lines + lines\n",
    "        c = ''.join(captions[f:t])\n",
    "        c = re.sub('[\\r\\n\\t]', '', c)\n",
    "        ten_line_captions.append(c)\n",
    "\n",
    "    return ten_line_captions"
   ]
  },
  {
   "cell_type": "markdown",
   "metadata": {},
   "source": [
    "## translate and caption\n",
    "\n",
    "根据文件位置进行读取、翻译、保存本地的操作。"
   ]
  },
  {
   "cell_type": "code",
   "execution_count": 220,
   "metadata": {},
   "outputs": [],
   "source": [
    "def translate_caption(caption_path):\n",
    "    \n",
    "    def save_file_path():\n",
    "        \n",
    "        paths = caption_path.split('/')\n",
    "        file_path = 'transcript_' + paths[2]\n",
    "        paths[2] = file_path\n",
    "\n",
    "        return '/'.join(paths)\n",
    "    \n",
    "    def save_translate(src,res):\n",
    "        '''\n",
    "        将文字进行组合，由于有中文的存在，需要对字符进行编码设置，\n",
    "        在调用api之后的decode操作是unicode，保存的时候必须是utf8\n",
    "        '''\n",
    "        text = src + '\\n\\n'+ res + '\\n\\n'\n",
    "        return text.encode('utf8')\n",
    "    \n",
    "    captions = read_caption_content(caption_path)\n",
    "    \n",
    "    if len(captions) is not 0:\n",
    "\n",
    "        file = open(save_file_path(),'w')             \n",
    "        for caption in captions:\n",
    "\n",
    "            t = translate(caption)\n",
    "            src = t[0]\n",
    "            res = t[1]\n",
    "            \n",
    "            text = save_translate(src,res)\n",
    "    \n",
    "            file.write(text) \n",
    "        file.close()\n",
    "    "
   ]
  },
  {
   "cell_type": "markdown",
   "metadata": {},
   "source": [
    "## script wwdc\n",
    "\n",
    "根据year、session去官网爬取对应的字幕信息，这里选择的是script而不是download，其实使用download也可以达到想要的效果。由于这里是定向爬取的，不会对官网所有的字幕进行爬取，所以没有进行anit-anit-script操作。"
   ]
  },
  {
   "cell_type": "code",
   "execution_count": 223,
   "metadata": {},
   "outputs": [],
   "source": [
    "def scrpit_wwdc(year,session):\n",
    "    \n",
    "    mkdir('wwdc')\n",
    "    \n",
    "    url = 'https://developer.apple.com/videos/play/wwdc{}/{}/'.format(year,session)\n",
    "    file_name = './wwdc/wwdc{}_{}.txt'.format(year,session)\n",
    "    \n",
    "    def script_content(url):\n",
    "\n",
    "        header = {'User-Agent': random.choice(USER_AGENTS),}\n",
    "\n",
    "        html = requests.get(url=url, headers=header).text\n",
    "\n",
    "        soup = BeautifulSoup(html, 'lxml')\n",
    "\n",
    "        ps = soup.find(class_='margin-bottom-small download-transcript').parent.find_all('p')\n",
    "\n",
    "        captions = []\n",
    "        for p in ps:\n",
    "\n",
    "            spans = p.find_all(class_='sentence')\n",
    "            span_caption = ''\n",
    "            for span in spans:\n",
    "                span_caption += span.string\n",
    "\n",
    "            span_caption = re.sub('[\\r\\n\\t]', '', span_caption)\n",
    "            captions.append(span_caption + '\\n\\n')\n",
    "\n",
    "        return captions\n",
    "\n",
    "    def save_caption_to_file(captions):\n",
    "\n",
    "        file = open(file_name,'w')             \n",
    "        for caption in captions:\n",
    "            file.write(caption) \n",
    "        file.close()\n",
    "\n",
    "    # 爬取字幕\n",
    "    captions = script_content(url)\n",
    "    # 保存字幕到txt文件中\n",
    "    save_caption_to_file(captions)\n",
    "    \n",
    "    return file_name"
   ]
  },
  {
   "cell_type": "markdown",
   "metadata": {},
   "source": [
    "## main\n",
    "\n",
    "爬取wwdc字幕并翻译的主调函数，传入year、session等待字幕下载、翻译完成即可。"
   ]
  },
  {
   "cell_type": "code",
   "execution_count": 224,
   "metadata": {},
   "outputs": [],
   "source": [
    "def scrpit_wwdc_then_translate_save(year,session):\n",
    "    \n",
    "    file_name_path = scrpit_wwdc(year,session)\n",
    "    translate_caption(file_name_path)"
   ]
  },
  {
   "cell_type": "markdown",
   "metadata": {},
   "source": [
    "## example"
   ]
  },
  {
   "cell_type": "code",
   "execution_count": 222,
   "metadata": {},
   "outputs": [],
   "source": [
    "scrpit_wwdc_then_translate_save(2017,413)"
   ]
  },
  {
   "cell_type": "code",
   "execution_count": null,
   "metadata": {},
   "outputs": [],
   "source": []
  }
 ],
 "metadata": {
  "kernelspec": {
   "display_name": "Python 2",
   "language": "python",
   "name": "python2"
  },
  "language_info": {
   "codemirror_mode": {
    "name": "ipython",
    "version": 2
   },
   "file_extension": ".py",
   "mimetype": "text/x-python",
   "name": "python",
   "nbconvert_exporter": "python",
   "pygments_lexer": "ipython2",
   "version": "2.7.15"
  }
 },
 "nbformat": 4,
 "nbformat_minor": 2
}
